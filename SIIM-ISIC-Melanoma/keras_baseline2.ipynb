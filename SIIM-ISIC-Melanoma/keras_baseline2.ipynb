{
 "cells": [
  {
   "cell_type": "code",
   "execution_count": 1,
   "metadata": {
    "ExecuteTime": {
     "end_time": "2020-06-26T10:44:22.579686Z",
     "start_time": "2020-06-26T10:44:20.597677Z"
    }
   },
   "outputs": [
    {
     "data": {
      "text/plain": [
       "'2.3.0-dev20200522'"
      ]
     },
     "execution_count": 1,
     "metadata": {},
     "output_type": "execute_result"
    }
   ],
   "source": [
    "import tensorflow as tf\n",
    "from tensorflow import keras\n",
    "from tensorflow.keras import layers\n",
    "import os\n",
    "import pandas as pd\n",
    "from tensorflow.keras.applications import ResNet50V2\n",
    "\n",
    "tf.__version__"
   ]
  },
  {
   "cell_type": "code",
   "execution_count": 2,
   "metadata": {
    "ExecuteTime": {
     "end_time": "2020-06-26T10:44:22.595209Z",
     "start_time": "2020-06-26T10:44:22.581687Z"
    }
   },
   "outputs": [
    {
     "data": {
      "text/plain": [
       "['jpeg224',\n",
       " 'sample_submission.csv',\n",
       " 'subset.csv',\n",
       " 'test.csv',\n",
       " 'train.csv',\n",
       " 'train_split.csv',\n",
       " 'val_split.csv']"
      ]
     },
     "execution_count": 2,
     "metadata": {},
     "output_type": "execute_result"
    }
   ],
   "source": [
    "PATH = 'data'\n",
    "\n",
    "os.listdir(PATH)"
   ]
  },
  {
   "cell_type": "code",
   "execution_count": 3,
   "metadata": {
    "ExecuteTime": {
     "end_time": "2020-06-26T10:44:22.627207Z",
     "start_time": "2020-06-26T10:44:22.596210Z"
    }
   },
   "outputs": [
    {
     "data": {
      "text/plain": [
       "((2220, 8), (10932, 8))"
      ]
     },
     "execution_count": 3,
     "metadata": {},
     "output_type": "execute_result"
    }
   ],
   "source": [
    "train = pd.read_csv(f'{PATH}/subset.csv')\n",
    "val = pd.read_csv(f'{PATH}/val_split.csv')\n",
    "\n",
    "train.shape, val.shape"
   ]
  },
  {
   "cell_type": "code",
   "execution_count": 4,
   "metadata": {
    "ExecuteTime": {
     "end_time": "2020-06-26T10:44:22.643208Z",
     "start_time": "2020-06-26T10:44:22.628209Z"
    }
   },
   "outputs": [
    {
     "data": {
      "text/html": [
       "<div>\n",
       "<style scoped>\n",
       "    .dataframe tbody tr th:only-of-type {\n",
       "        vertical-align: middle;\n",
       "    }\n",
       "\n",
       "    .dataframe tbody tr th {\n",
       "        vertical-align: top;\n",
       "    }\n",
       "\n",
       "    .dataframe thead th {\n",
       "        text-align: right;\n",
       "    }\n",
       "</style>\n",
       "<table border=\"1\" class=\"dataframe\">\n",
       "  <thead>\n",
       "    <tr style=\"text-align: right;\">\n",
       "      <th></th>\n",
       "      <th>image_name</th>\n",
       "      <th>patient_id</th>\n",
       "      <th>sex</th>\n",
       "      <th>age_approx</th>\n",
       "      <th>anatom_site_general_challenge</th>\n",
       "      <th>diagnosis</th>\n",
       "      <th>benign_malignant</th>\n",
       "      <th>target</th>\n",
       "    </tr>\n",
       "  </thead>\n",
       "  <tbody>\n",
       "    <tr>\n",
       "      <th>0</th>\n",
       "      <td>ISIC_0533349</td>\n",
       "      <td>IP_5208504</td>\n",
       "      <td>female</td>\n",
       "      <td>45.0</td>\n",
       "      <td>lower extremity</td>\n",
       "      <td>unknown</td>\n",
       "      <td>benign</td>\n",
       "      <td>0</td>\n",
       "    </tr>\n",
       "    <tr>\n",
       "      <th>1</th>\n",
       "      <td>ISIC_8814612</td>\n",
       "      <td>IP_0414408</td>\n",
       "      <td>male</td>\n",
       "      <td>50.0</td>\n",
       "      <td>torso</td>\n",
       "      <td>unknown</td>\n",
       "      <td>benign</td>\n",
       "      <td>0</td>\n",
       "    </tr>\n",
       "    <tr>\n",
       "      <th>2</th>\n",
       "      <td>ISIC_6515241</td>\n",
       "      <td>IP_6245507</td>\n",
       "      <td>male</td>\n",
       "      <td>45.0</td>\n",
       "      <td>lower extremity</td>\n",
       "      <td>unknown</td>\n",
       "      <td>benign</td>\n",
       "      <td>0</td>\n",
       "    </tr>\n",
       "    <tr>\n",
       "      <th>3</th>\n",
       "      <td>ISIC_5075261</td>\n",
       "      <td>IP_2117218</td>\n",
       "      <td>male</td>\n",
       "      <td>40.0</td>\n",
       "      <td>upper extremity</td>\n",
       "      <td>unknown</td>\n",
       "      <td>benign</td>\n",
       "      <td>0</td>\n",
       "    </tr>\n",
       "    <tr>\n",
       "      <th>4</th>\n",
       "      <td>ISIC_2624460</td>\n",
       "      <td>IP_1969685</td>\n",
       "      <td>male</td>\n",
       "      <td>50.0</td>\n",
       "      <td>torso</td>\n",
       "      <td>unknown</td>\n",
       "      <td>benign</td>\n",
       "      <td>0</td>\n",
       "    </tr>\n",
       "  </tbody>\n",
       "</table>\n",
       "</div>"
      ],
      "text/plain": [
       "     image_name  patient_id     sex  age_approx anatom_site_general_challenge  \\\n",
       "0  ISIC_0533349  IP_5208504  female        45.0               lower extremity   \n",
       "1  ISIC_8814612  IP_0414408    male        50.0                         torso   \n",
       "2  ISIC_6515241  IP_6245507    male        45.0               lower extremity   \n",
       "3  ISIC_5075261  IP_2117218    male        40.0               upper extremity   \n",
       "4  ISIC_2624460  IP_1969685    male        50.0                         torso   \n",
       "\n",
       "  diagnosis benign_malignant  target  \n",
       "0   unknown           benign       0  \n",
       "1   unknown           benign       0  \n",
       "2   unknown           benign       0  \n",
       "3   unknown           benign       0  \n",
       "4   unknown           benign       0  "
      ]
     },
     "execution_count": 4,
     "metadata": {},
     "output_type": "execute_result"
    }
   ],
   "source": [
    "train.head()"
   ]
  },
  {
   "cell_type": "code",
   "execution_count": 5,
   "metadata": {
    "ExecuteTime": {
     "end_time": "2020-06-26T10:44:22.659211Z",
     "start_time": "2020-06-26T10:44:22.644210Z"
    },
    "code_folding": []
   },
   "outputs": [],
   "source": [
    "BATCH_SIZE = 64\n",
    "AUTO = tf.data.experimental.AUTOTUNE\n",
    "\n",
    "def decode(filename, label):\n",
    "    img = tf.io.read_file(filename)\n",
    "    img = tf.image.decode_jpeg(img, channels=3)\n",
    "    img = tf.cast(img, tf.float32)\n",
    "    return img, label\n",
    "\n",
    "def load_ds(df):\n",
    "    options = tf.data.Options()\n",
    "    options.experimental_deterministic = False\n",
    "    imgs, labels = df[\"image_name\"].values, df[\"target\"].values\n",
    "    imgs = [f'{PATH}/jpeg224/train/{img}.jpg' for img in imgs]\n",
    "    ds = tf.data.Dataset.from_tensor_slices((imgs, labels))\n",
    "    ds = ds.with_options(options)\n",
    "    ds = ds.map(decode)\n",
    "    ds = ds.cache()\n",
    "    ds = ds.shuffle(2048)\n",
    "    ds = ds.batch(BATCH_SIZE)\n",
    "    ds = ds.prefetch(buffer_size=AUTO)\n",
    "    return ds"
   ]
  },
  {
   "cell_type": "code",
   "execution_count": 6,
   "metadata": {
    "ExecuteTime": {
     "end_time": "2020-06-26T10:44:23.378198Z",
     "start_time": "2020-06-26T10:44:22.660209Z"
    }
   },
   "outputs": [],
   "source": [
    "train_ds = load_ds(train)\n",
    "val_ds = load_ds(val)"
   ]
  },
  {
   "cell_type": "code",
   "execution_count": 7,
   "metadata": {
    "ExecuteTime": {
     "end_time": "2020-06-26T10:44:25.790571Z",
     "start_time": "2020-06-26T10:44:23.380197Z"
    }
   },
   "outputs": [
    {
     "name": "stdout",
     "output_type": "stream",
     "text": [
      "Model: \"functional_1\"\n",
      "_________________________________________________________________\n",
      "Layer (type)                 Output Shape              Param #   \n",
      "=================================================================\n",
      "input_2 (InputLayer)         [(None, 224, 224, 3)]     0         \n",
      "_________________________________________________________________\n",
      "rescaling (Rescaling)        (None, 224, 224, 3)       0         \n",
      "_________________________________________________________________\n",
      "resnet50v2 (Functional)      (None, 7, 7, 2048)        23564800  \n",
      "_________________________________________________________________\n",
      "global_average_pooling2d (Gl (None, 2048)              0         \n",
      "_________________________________________________________________\n",
      "dense (Dense)                (None, 1)                 2049      \n",
      "=================================================================\n",
      "Total params: 23,566,849\n",
      "Trainable params: 2,049\n",
      "Non-trainable params: 23,564,800\n",
      "_________________________________________________________________\n"
     ]
    }
   ],
   "source": [
    "IMAGE_SIZE = (224, 224, 3)\n",
    "\n",
    "encoder = ResNet50V2(\n",
    "    include_top=False,\n",
    "    input_shape=IMAGE_SIZE,\n",
    "    weights='imagenet'\n",
    ")\n",
    "encoder.trainable = False\n",
    "\n",
    "inputs = keras.Input(shape=IMAGE_SIZE)\n",
    "x = keras.layers.experimental.preprocessing.Rescaling(1./255)(inputs)\n",
    "x = encoder(x, training=False)\n",
    "x = keras.layers.GlobalAveragePooling2D()(x)\n",
    "outputs = keras.layers.Dense(1, activation=\"sigmoid\")(x)\n",
    "model = keras.Model(inputs, outputs)\n",
    "model.summary()"
   ]
  },
  {
   "cell_type": "code",
   "execution_count": 8,
   "metadata": {
    "ExecuteTime": {
     "end_time": "2020-06-26T10:44:25.820951Z",
     "start_time": "2020-06-26T10:44:25.791571Z"
    }
   },
   "outputs": [],
   "source": [
    "model.compile(\n",
    "    optimizer=tf.keras.optimizers.Adam(),\n",
    "    loss=tf.keras.losses.BinaryCrossentropy(),\n",
    "    metrics=[keras.metrics.AUC(name=\"auc\")]\n",
    ")"
   ]
  },
  {
   "cell_type": "code",
   "execution_count": 9,
   "metadata": {
    "ExecuteTime": {
     "end_time": "2020-06-26T10:44:25.836951Z",
     "start_time": "2020-06-26T10:44:25.821952Z"
    }
   },
   "outputs": [],
   "source": [
    "filepath = './checkpoints/checkpoint'\n",
    "model_checkpoint = tf.keras.callbacks.ModelCheckpoint(\n",
    "    filepath = filepath,\n",
    "    monitor=\"val_auc\",\n",
    "    verbose=0,\n",
    "    save_best_only=True,\n",
    "    save_weights_only=True,\n",
    "    mode=\"max\"\n",
    ")"
   ]
  },
  {
   "cell_type": "code",
   "execution_count": 10,
   "metadata": {
    "ExecuteTime": {
     "end_time": "2020-06-26T10:46:54.770648Z",
     "start_time": "2020-06-26T10:44:25.837952Z"
    }
   },
   "outputs": [
    {
     "name": "stdout",
     "output_type": "stream",
     "text": [
      "Epoch 1/10\n",
      "35/35 [==============================] - 16s 444ms/step - loss: 0.1805 - auc: 0.4019 - val_loss: 0.1355 - val_auc: 0.4009\n",
      "Epoch 2/10\n",
      "35/35 [==============================] - 14s 402ms/step - loss: 0.1080 - auc: 0.4507 - val_loss: 0.0983 - val_auc: 0.5013\n",
      "Epoch 3/10\n",
      "35/35 [==============================] - 14s 401ms/step - loss: 0.0919 - auc: 0.5969 - val_loss: 0.1425 - val_auc: 0.5545\n",
      "Epoch 4/10\n",
      "35/35 [==============================] - 14s 400ms/step - loss: 0.0829 - auc: 0.7171 - val_loss: 0.0930 - val_auc: 0.7342\n",
      "Epoch 5/10\n",
      "35/35 [==============================] - 14s 394ms/step - loss: 0.0755 - auc: 0.7990 - val_loss: 0.1066 - val_auc: 0.7250\n",
      "Epoch 6/10\n",
      "35/35 [==============================] - 14s 392ms/step - loss: 0.0711 - auc: 0.8283 - val_loss: 0.0963 - val_auc: 0.7015\n",
      "Epoch 7/10\n",
      "35/35 [==============================] - 14s 403ms/step - loss: 0.0665 - auc: 0.8632 - val_loss: 0.0874 - val_auc: 0.7383\n",
      "Epoch 8/10\n",
      "35/35 [==============================] - 14s 392ms/step - loss: 0.0636 - auc: 0.8871 - val_loss: 0.0891 - val_auc: 0.7065\n",
      "Epoch 9/10\n",
      "35/35 [==============================] - 14s 392ms/step - loss: 0.0604 - auc: 0.9015 - val_loss: 0.1014 - val_auc: 0.7268\n",
      "Epoch 10/10\n",
      "35/35 [==============================] - 14s 394ms/step - loss: 0.0578 - auc: 0.9094 - val_loss: 0.1026 - val_auc: 0.7224\n"
     ]
    },
    {
     "data": {
      "text/plain": [
       "<tensorflow.python.keras.callbacks.History at 0x22e523cbc08>"
      ]
     },
     "execution_count": 10,
     "metadata": {},
     "output_type": "execute_result"
    }
   ],
   "source": [
    "model.fit(train_ds, \n",
    "          epochs=10, \n",
    "          validation_data=val_ds, \n",
    "          validation_steps=10,\n",
    "          callbacks=[model_checkpoint])"
   ]
  },
  {
   "cell_type": "code",
   "execution_count": 11,
   "metadata": {
    "ExecuteTime": {
     "end_time": "2020-06-26T10:46:55.852784Z",
     "start_time": "2020-06-26T10:46:54.771649Z"
    }
   },
   "outputs": [],
   "source": [
    "model.load_weights(filepath)\n",
    "model.save(\"model.h5\")"
   ]
  },
  {
   "cell_type": "code",
   "execution_count": 12,
   "metadata": {
    "ExecuteTime": {
     "end_time": "2020-06-26T10:47:35.199755Z",
     "start_time": "2020-06-26T10:46:55.853787Z"
    }
   },
   "outputs": [
    {
     "name": "stdout",
     "output_type": "stream",
     "text": [
      "171/171 [==============================] - 37s 216ms/step - loss: 0.0809 - auc: 0.7595\n"
     ]
    },
    {
     "data": {
      "text/plain": [
       "[0.0809059664607048, 0.7595189809799194]"
      ]
     },
     "execution_count": 12,
     "metadata": {},
     "output_type": "execute_result"
    }
   ],
   "source": [
    "model.evaluate(val_ds)"
   ]
  },
  {
   "cell_type": "code",
   "execution_count": 13,
   "metadata": {
    "ExecuteTime": {
     "end_time": "2020-06-26T10:47:35.229752Z",
     "start_time": "2020-06-26T10:47:35.200755Z"
    }
   },
   "outputs": [
    {
     "data": {
      "text/html": [
       "<div>\n",
       "<style scoped>\n",
       "    .dataframe tbody tr th:only-of-type {\n",
       "        vertical-align: middle;\n",
       "    }\n",
       "\n",
       "    .dataframe tbody tr th {\n",
       "        vertical-align: top;\n",
       "    }\n",
       "\n",
       "    .dataframe thead th {\n",
       "        text-align: right;\n",
       "    }\n",
       "</style>\n",
       "<table border=\"1\" class=\"dataframe\">\n",
       "  <thead>\n",
       "    <tr style=\"text-align: right;\">\n",
       "      <th></th>\n",
       "      <th>image_name</th>\n",
       "      <th>patient_id</th>\n",
       "      <th>sex</th>\n",
       "      <th>age_approx</th>\n",
       "      <th>anatom_site_general_challenge</th>\n",
       "    </tr>\n",
       "  </thead>\n",
       "  <tbody>\n",
       "    <tr>\n",
       "      <th>0</th>\n",
       "      <td>ISIC_0052060</td>\n",
       "      <td>IP_3579794</td>\n",
       "      <td>male</td>\n",
       "      <td>70.0</td>\n",
       "      <td>NaN</td>\n",
       "    </tr>\n",
       "    <tr>\n",
       "      <th>1</th>\n",
       "      <td>ISIC_0052349</td>\n",
       "      <td>IP_7782715</td>\n",
       "      <td>male</td>\n",
       "      <td>40.0</td>\n",
       "      <td>lower extremity</td>\n",
       "    </tr>\n",
       "    <tr>\n",
       "      <th>2</th>\n",
       "      <td>ISIC_0058510</td>\n",
       "      <td>IP_7960270</td>\n",
       "      <td>female</td>\n",
       "      <td>55.0</td>\n",
       "      <td>torso</td>\n",
       "    </tr>\n",
       "    <tr>\n",
       "      <th>3</th>\n",
       "      <td>ISIC_0073313</td>\n",
       "      <td>IP_6375035</td>\n",
       "      <td>female</td>\n",
       "      <td>50.0</td>\n",
       "      <td>torso</td>\n",
       "    </tr>\n",
       "    <tr>\n",
       "      <th>4</th>\n",
       "      <td>ISIC_0073502</td>\n",
       "      <td>IP_0589375</td>\n",
       "      <td>female</td>\n",
       "      <td>45.0</td>\n",
       "      <td>lower extremity</td>\n",
       "    </tr>\n",
       "  </tbody>\n",
       "</table>\n",
       "</div>"
      ],
      "text/plain": [
       "     image_name  patient_id     sex  age_approx anatom_site_general_challenge\n",
       "0  ISIC_0052060  IP_3579794    male        70.0                           NaN\n",
       "1  ISIC_0052349  IP_7782715    male        40.0               lower extremity\n",
       "2  ISIC_0058510  IP_7960270  female        55.0                         torso\n",
       "3  ISIC_0073313  IP_6375035  female        50.0                         torso\n",
       "4  ISIC_0073502  IP_0589375  female        45.0               lower extremity"
      ]
     },
     "execution_count": 13,
     "metadata": {},
     "output_type": "execute_result"
    }
   ],
   "source": [
    "test = pd.read_csv(f'{PATH}/test.csv')\n",
    "\n",
    "test.head()"
   ]
  },
  {
   "cell_type": "code",
   "execution_count": 14,
   "metadata": {
    "ExecuteTime": {
     "end_time": "2020-06-26T10:47:35.245750Z",
     "start_time": "2020-06-26T10:47:35.231750Z"
    }
   },
   "outputs": [],
   "source": [
    "def decode_test(filename):\n",
    "    img = tf.io.read_file(filename)\n",
    "    img = tf.image.decode_jpeg(img, channels=3)\n",
    "    img = tf.cast(img, tf.float32)\n",
    "    return img\n",
    "\n",
    "def load_test_ds(df):\n",
    "    imgs = df[\"image_name\"].values\n",
    "    imgs = [f'{PATH}/jpeg224/test/{img}.jpg' for img in imgs]\n",
    "    ds = tf.data.Dataset.from_tensor_slices(imgs)\n",
    "    ds = ds.map(decode_test)\n",
    "    ds = ds.batch(BATCH_SIZE)\n",
    "    return ds"
   ]
  },
  {
   "cell_type": "code",
   "execution_count": 15,
   "metadata": {
    "ExecuteTime": {
     "end_time": "2020-06-26T10:47:35.322751Z",
     "start_time": "2020-06-26T10:47:35.246752Z"
    }
   },
   "outputs": [],
   "source": [
    "test_ds = load_test_ds(test)"
   ]
  },
  {
   "cell_type": "code",
   "execution_count": 16,
   "metadata": {
    "ExecuteTime": {
     "end_time": "2020-06-26T10:48:11.747696Z",
     "start_time": "2020-06-26T10:47:35.324754Z"
    }
   },
   "outputs": [],
   "source": [
    "preds = model.predict(test_ds)"
   ]
  },
  {
   "cell_type": "code",
   "execution_count": 17,
   "metadata": {
    "ExecuteTime": {
     "end_time": "2020-06-26T10:48:11.763209Z",
     "start_time": "2020-06-26T10:48:11.748696Z"
    }
   },
   "outputs": [
    {
     "data": {
      "text/plain": [
       "array([[0.01247317],\n",
       "       [0.01131347],\n",
       "       [0.02000073],\n",
       "       ...,\n",
       "       [0.03002178],\n",
       "       [0.00500779],\n",
       "       [0.06655625]], dtype=float32)"
      ]
     },
     "execution_count": 17,
     "metadata": {},
     "output_type": "execute_result"
    }
   ],
   "source": [
    "preds"
   ]
  },
  {
   "cell_type": "code",
   "execution_count": 18,
   "metadata": {
    "ExecuteTime": {
     "end_time": "2020-06-26T10:48:11.778213Z",
     "start_time": "2020-06-26T10:48:11.764211Z"
    }
   },
   "outputs": [
    {
     "data": {
      "text/html": [
       "<div>\n",
       "<style scoped>\n",
       "    .dataframe tbody tr th:only-of-type {\n",
       "        vertical-align: middle;\n",
       "    }\n",
       "\n",
       "    .dataframe tbody tr th {\n",
       "        vertical-align: top;\n",
       "    }\n",
       "\n",
       "    .dataframe thead th {\n",
       "        text-align: right;\n",
       "    }\n",
       "</style>\n",
       "<table border=\"1\" class=\"dataframe\">\n",
       "  <thead>\n",
       "    <tr style=\"text-align: right;\">\n",
       "      <th></th>\n",
       "      <th>image_name</th>\n",
       "      <th>target</th>\n",
       "    </tr>\n",
       "  </thead>\n",
       "  <tbody>\n",
       "    <tr>\n",
       "      <th>0</th>\n",
       "      <td>ISIC_0052060</td>\n",
       "      <td>0.012473</td>\n",
       "    </tr>\n",
       "    <tr>\n",
       "      <th>1</th>\n",
       "      <td>ISIC_0052349</td>\n",
       "      <td>0.011313</td>\n",
       "    </tr>\n",
       "    <tr>\n",
       "      <th>2</th>\n",
       "      <td>ISIC_0058510</td>\n",
       "      <td>0.020001</td>\n",
       "    </tr>\n",
       "    <tr>\n",
       "      <th>3</th>\n",
       "      <td>ISIC_0073313</td>\n",
       "      <td>0.000767</td>\n",
       "    </tr>\n",
       "    <tr>\n",
       "      <th>4</th>\n",
       "      <td>ISIC_0073502</td>\n",
       "      <td>0.019851</td>\n",
       "    </tr>\n",
       "    <tr>\n",
       "      <th>...</th>\n",
       "      <td>...</td>\n",
       "      <td>...</td>\n",
       "    </tr>\n",
       "    <tr>\n",
       "      <th>10977</th>\n",
       "      <td>ISIC_9992485</td>\n",
       "      <td>0.006312</td>\n",
       "    </tr>\n",
       "    <tr>\n",
       "      <th>10978</th>\n",
       "      <td>ISIC_9996992</td>\n",
       "      <td>0.046763</td>\n",
       "    </tr>\n",
       "    <tr>\n",
       "      <th>10979</th>\n",
       "      <td>ISIC_9997917</td>\n",
       "      <td>0.030022</td>\n",
       "    </tr>\n",
       "    <tr>\n",
       "      <th>10980</th>\n",
       "      <td>ISIC_9998234</td>\n",
       "      <td>0.005008</td>\n",
       "    </tr>\n",
       "    <tr>\n",
       "      <th>10981</th>\n",
       "      <td>ISIC_9999302</td>\n",
       "      <td>0.066556</td>\n",
       "    </tr>\n",
       "  </tbody>\n",
       "</table>\n",
       "<p>10982 rows × 2 columns</p>\n",
       "</div>"
      ],
      "text/plain": [
       "         image_name    target\n",
       "0      ISIC_0052060  0.012473\n",
       "1      ISIC_0052349  0.011313\n",
       "2      ISIC_0058510  0.020001\n",
       "3      ISIC_0073313  0.000767\n",
       "4      ISIC_0073502  0.019851\n",
       "...             ...       ...\n",
       "10977  ISIC_9992485  0.006312\n",
       "10978  ISIC_9996992  0.046763\n",
       "10979  ISIC_9997917  0.030022\n",
       "10980  ISIC_9998234  0.005008\n",
       "10981  ISIC_9999302  0.066556\n",
       "\n",
       "[10982 rows x 2 columns]"
      ]
     },
     "execution_count": 18,
     "metadata": {},
     "output_type": "execute_result"
    }
   ],
   "source": [
    "submission = pd.DataFrame({'image_name': test['image_name'].values, 'target': preds.ravel()})\n",
    "\n",
    "submission"
   ]
  },
  {
   "cell_type": "code",
   "execution_count": 19,
   "metadata": {
    "ExecuteTime": {
     "end_time": "2020-06-26T10:48:11.809211Z",
     "start_time": "2020-06-26T10:48:11.779213Z"
    }
   },
   "outputs": [],
   "source": [
    "submission.to_csv('submission.csv', index=False)"
   ]
  }
 ],
 "metadata": {
  "kernelspec": {
   "display_name": "Python 3",
   "language": "python",
   "name": "python3"
  },
  "language_info": {
   "codemirror_mode": {
    "name": "ipython",
    "version": 3
   },
   "file_extension": ".py",
   "mimetype": "text/x-python",
   "name": "python",
   "nbconvert_exporter": "python",
   "pygments_lexer": "ipython3",
   "version": "3.7.6"
  },
  "toc": {
   "base_numbering": 1,
   "nav_menu": {},
   "number_sections": true,
   "sideBar": true,
   "skip_h1_title": false,
   "title_cell": "Table of Contents",
   "title_sidebar": "Contents",
   "toc_cell": false,
   "toc_position": {},
   "toc_section_display": true,
   "toc_window_display": false
  }
 },
 "nbformat": 4,
 "nbformat_minor": 4
}
