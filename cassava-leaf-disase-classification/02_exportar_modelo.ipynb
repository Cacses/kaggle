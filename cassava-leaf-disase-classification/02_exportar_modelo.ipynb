{
 "cells": [
  {
   "cell_type": "code",
   "execution_count": 1,
   "metadata": {
    "ExecuteTime": {
     "end_time": "2020-12-02T17:55:32.434681Z",
     "start_time": "2020-12-02T17:55:30.808456Z"
    }
   },
   "outputs": [],
   "source": [
    "import pytorch_lightning as pl\n",
    "import torch \n",
    "from pytorch_lightning.metrics.functional.classification import accuracy\n",
    "from tqdm import tqdm\n",
    "from src import DataModule, Resnet\n",
    "import torchvision\n",
    "import pandas as pd \n",
    "from pathlib import Path\n",
    "from skimage import io"
   ]
  },
  {
   "cell_type": "code",
   "execution_count": 2,
   "metadata": {
    "ExecuteTime": {
     "end_time": "2020-12-02T17:55:32.466681Z",
     "start_time": "2020-12-02T17:55:32.436681Z"
    }
   },
   "outputs": [
    {
     "name": "stdout",
     "output_type": "stream",
     "text": [
      "Training samples:  17117\n",
      "Validation samples:  4280\n"
     ]
    }
   ],
   "source": [
    "dm = DataModule(\n",
    "    path = Path('data'), \n",
    "    batch_size=64\n",
    ")\n",
    "dm.setup()"
   ]
  },
  {
   "cell_type": "code",
   "execution_count": 3,
   "metadata": {
    "ExecuteTime": {
     "end_time": "2020-12-02T17:55:47.591459Z",
     "start_time": "2020-12-02T17:55:46.024164Z"
    }
   },
   "outputs": [
    {
     "data": {
      "text/plain": [
       "{'lr': 0.0003,\n",
       " 'optimizer': 'Adam',\n",
       " 'batch_size': 256,\n",
       " 'max_epochs': 50,\n",
       " 'precision': 16,\n",
       " 'subset': 0.1,\n",
       " 'test_size': 0.2,\n",
       " 'seed': 42,\n",
       " 'size': 256,\n",
       " 'backbone': 'resnet18',\n",
       " 'val_batches': 10,\n",
       " 'extra_data': 1}"
      ]
     },
     "execution_count": 3,
     "metadata": {},
     "output_type": "execute_result"
    }
   ],
   "source": [
    "checkpoint = torch.load('./resnet18-256-val_acc=0.78398.ckpt')\n",
    "hparams = checkpoint['hyper_parameters']\n",
    "hparams"
   ]
  },
  {
   "cell_type": "code",
   "execution_count": 4,
   "metadata": {
    "ExecuteTime": {
     "end_time": "2020-12-02T17:55:55.284894Z",
     "start_time": "2020-12-02T17:55:54.960896Z"
    }
   },
   "outputs": [
    {
     "data": {
      "text/plain": [
       "\"backbone\":    resnet18\n",
       "\"batch_size\":  256\n",
       "\"extra_data\":  1\n",
       "\"lr\":          0.0003\n",
       "\"max_epochs\":  50\n",
       "\"optimizer\":   Adam\n",
       "\"precision\":   16\n",
       "\"seed\":        42\n",
       "\"size\":        256\n",
       "\"subset\":      0.1\n",
       "\"test_size\":   0.2\n",
       "\"val_batches\": 10"
      ]
     },
     "execution_count": 4,
     "metadata": {},
     "output_type": "execute_result"
    }
   ],
   "source": [
    "model = Resnet.load_from_checkpoint(checkpoint_path='./resnet18-256-val_acc=0.78398.ckpt')\n",
    "model.hparams"
   ]
  },
  {
   "cell_type": "code",
   "execution_count": 5,
   "metadata": {
    "ExecuteTime": {
     "end_time": "2020-12-02T17:56:42.435822Z",
     "start_time": "2020-12-02T17:55:58.176523Z"
    }
   },
   "outputs": [
    {
     "name": "stderr",
     "output_type": "stream",
     "text": [
      "acc 0.79734: 100%|██████████████████████████████████████████| 67/67 [00:44<00:00,  1.52it/s]\n"
     ]
    }
   ],
   "source": [
    " def evaluate(model, dl):   \n",
    "    model.eval()\n",
    "    model.cuda()\n",
    "    acc = []\n",
    "    with torch.no_grad():\n",
    "        t = tqdm(dl)\n",
    "        for x, y in t:\n",
    "            x, y = x.cuda(), y.cuda()\n",
    "            y_hat = model(x)\n",
    "            acc.append(accuracy(y_hat, y).item())\n",
    "            t.set_description(f\"acc {np.mean(acc):.5f}\")\n",
    "            \n",
    "evaluate(model, dm.val_dataloader())"
   ]
  },
  {
   "cell_type": "code",
   "execution_count": 6,
   "metadata": {
    "ExecuteTime": {
     "end_time": "2020-12-02T17:56:42.450820Z",
     "start_time": "2020-12-02T17:56:42.437822Z"
    }
   },
   "outputs": [],
   "source": [
    "class Preprocess(torch.nn.Module):\n",
    "    def __init__(self):\n",
    "        super().__init__()\n",
    "    def forward(self, x):\n",
    "        x = x.float() / 255.\n",
    "        x = x.permute(0, 3, 1, 2)\n",
    "        return x \n",
    "    \n",
    "class Postprocess(torch.nn.Module):\n",
    "    def __init__(self):\n",
    "        super().__init__()\n",
    "    def forward(self, x):\n",
    "        return torch.argmax(x, dim=1)"
   ]
  },
  {
   "cell_type": "code",
   "execution_count": 7,
   "metadata": {
    "ExecuteTime": {
     "end_time": "2020-12-02T17:56:42.754922Z",
     "start_time": "2020-12-02T17:56:42.453823Z"
    }
   },
   "outputs": [],
   "source": [
    "script = torch.jit.script(torch.nn.Sequential(\n",
    "    Preprocess(),\n",
    "    model.resnet.cpu(),\n",
    "    Postprocess()\n",
    "))\n",
    "torch.jit.save(script, \"model.pt\")"
   ]
  },
  {
   "cell_type": "code",
   "execution_count": 8,
   "metadata": {
    "ExecuteTime": {
     "end_time": "2020-12-02T17:56:42.770930Z",
     "start_time": "2020-12-02T17:56:42.755923Z"
    }
   },
   "outputs": [],
   "source": [
    " def evaluate2(model, dl):   \n",
    "    model.eval()\n",
    "    model.cuda()\n",
    "    acc = []\n",
    "    with torch.no_grad():\n",
    "        t = tqdm(dl)\n",
    "        for x, y in t:\n",
    "            x, y = x.cuda(), y.cuda()\n",
    "            # simulate test\n",
    "            x *= 255. \n",
    "            x = x.permute(0, 2, 3, 1).long()\n",
    "            #print(x.shape, x.dtype, x.max(), x.min())\n",
    "            y_hat = model(x)\n",
    "            acc.append(accuracy(y_hat, y).item())\n",
    "            t.set_description(f\"acc {np.mean(acc):.5f}\")"
   ]
  },
  {
   "cell_type": "code",
   "execution_count": 9,
   "metadata": {
    "ExecuteTime": {
     "end_time": "2020-12-02T17:57:25.971483Z",
     "start_time": "2020-12-02T17:56:42.771930Z"
    }
   },
   "outputs": [
    {
     "name": "stderr",
     "output_type": "stream",
     "text": [
      "acc 0.79714: 100%|██████████████████████████████████████████| 67/67 [00:43<00:00,  1.56it/s]\n"
     ]
    }
   ],
   "source": [
    "loaded = torch.jit.load('model.pt')\n",
    "evaluate2(loaded, dm.val_dataloader())"
   ]
  },
  {
   "cell_type": "code",
   "execution_count": 10,
   "metadata": {
    "ExecuteTime": {
     "end_time": "2020-12-02T17:57:25.986996Z",
     "start_time": "2020-12-02T17:57:25.973484Z"
    }
   },
   "outputs": [
    {
     "data": {
      "text/plain": [
       "1"
      ]
     },
     "execution_count": 10,
     "metadata": {},
     "output_type": "execute_result"
    }
   ],
   "source": [
    "path = Path('./data/test_images')\n",
    "images = os.listdir(path)\n",
    "images_paths = [str(path/img) for img in images]\n",
    "len(images)"
   ]
  },
  {
   "cell_type": "code",
   "execution_count": 11,
   "metadata": {
    "ExecuteTime": {
     "end_time": "2020-12-02T17:57:26.002995Z",
     "start_time": "2020-12-02T17:57:25.988996Z"
    }
   },
   "outputs": [],
   "source": [
    "def predict(model, images, bs=32):   \n",
    "    model.eval()\n",
    "    model.cuda()\n",
    "    preds = torch.tensor([]).cuda()\n",
    "    batches = len(images) // bs + 1\n",
    "    print(batches)\n",
    "    with torch.no_grad():\n",
    "        for b in tqdm(range(batches)):\n",
    "            imgs = images[bs*b:bs*(b+1)]\n",
    "            imgs = torch.from_numpy(np.array([io.imread(img) for img in imgs]))\n",
    "            y_hat = model(imgs.cuda())\n",
    "            preds = torch.cat([preds, y_hat])\n",
    "    return preds.long().cpu().numpy()"
   ]
  },
  {
   "cell_type": "code",
   "execution_count": 12,
   "metadata": {
    "ExecuteTime": {
     "end_time": "2020-12-02T17:57:26.252996Z",
     "start_time": "2020-12-02T17:57:26.005998Z"
    }
   },
   "outputs": [
    {
     "name": "stderr",
     "output_type": "stream",
     "text": [
      "100%|███████████████████████████████████████| 1/1 [00:00<00:00, 12.99it/s]"
     ]
    },
    {
     "name": "stdout",
     "output_type": "stream",
     "text": [
      "1\n"
     ]
    },
    {
     "name": "stderr",
     "output_type": "stream",
     "text": [
      "\n"
     ]
    },
    {
     "data": {
      "text/plain": [
       "array([4], dtype=int64)"
      ]
     },
     "execution_count": 12,
     "metadata": {},
     "output_type": "execute_result"
    }
   ],
   "source": [
    "loaded = torch.jit.load('model.pt')\n",
    "preds = predict(loaded, images_paths)\n",
    "preds"
   ]
  },
  {
   "cell_type": "code",
   "execution_count": 13,
   "metadata": {
    "ExecuteTime": {
     "end_time": "2020-12-02T17:57:26.268997Z",
     "start_time": "2020-12-02T17:57:26.253996Z"
    }
   },
   "outputs": [
    {
     "data": {
      "text/html": [
       "<div>\n",
       "<style scoped>\n",
       "    .dataframe tbody tr th:only-of-type {\n",
       "        vertical-align: middle;\n",
       "    }\n",
       "\n",
       "    .dataframe tbody tr th {\n",
       "        vertical-align: top;\n",
       "    }\n",
       "\n",
       "    .dataframe thead th {\n",
       "        text-align: right;\n",
       "    }\n",
       "</style>\n",
       "<table border=\"1\" class=\"dataframe\">\n",
       "  <thead>\n",
       "    <tr style=\"text-align: right;\">\n",
       "      <th></th>\n",
       "      <th>image_id</th>\n",
       "      <th>label</th>\n",
       "    </tr>\n",
       "  </thead>\n",
       "  <tbody>\n",
       "    <tr>\n",
       "      <th>0</th>\n",
       "      <td>2216849948.jpg</td>\n",
       "      <td>4</td>\n",
       "    </tr>\n",
       "  </tbody>\n",
       "</table>\n",
       "</div>"
      ],
      "text/plain": [
       "         image_id  label\n",
       "0  2216849948.jpg      4"
      ]
     },
     "execution_count": 13,
     "metadata": {},
     "output_type": "execute_result"
    }
   ],
   "source": [
    "submission = pd.DataFrame({'image_id': images, 'label': preds })\n",
    "submission"
   ]
  },
  {
   "cell_type": "code",
   "execution_count": 14,
   "metadata": {
    "ExecuteTime": {
     "end_time": "2020-12-02T17:57:26.284996Z",
     "start_time": "2020-12-02T17:57:26.269997Z"
    }
   },
   "outputs": [],
   "source": [
    "submission.to_csv('submission.csv', index=False)"
   ]
  }
 ],
 "metadata": {
  "kernelspec": {
   "display_name": "Python 3",
   "language": "python",
   "name": "python3"
  },
  "language_info": {
   "codemirror_mode": {
    "name": "ipython",
    "version": 3
   },
   "file_extension": ".py",
   "mimetype": "text/x-python",
   "name": "python",
   "nbconvert_exporter": "python",
   "pygments_lexer": "ipython3",
   "version": "3.7.6"
  },
  "toc": {
   "base_numbering": 1,
   "nav_menu": {},
   "number_sections": true,
   "sideBar": true,
   "skip_h1_title": false,
   "title_cell": "Table of Contents",
   "title_sidebar": "Contents",
   "toc_cell": false,
   "toc_position": {},
   "toc_section_display": true,
   "toc_window_display": false
  }
 },
 "nbformat": 4,
 "nbformat_minor": 4
}
