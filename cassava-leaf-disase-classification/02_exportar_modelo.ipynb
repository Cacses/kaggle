{
 "cells": [
  {
   "cell_type": "code",
   "execution_count": 1,
   "metadata": {
    "ExecuteTime": {
     "end_time": "2020-12-02T14:00:58.851878Z",
     "start_time": "2020-12-02T14:00:57.484865Z"
    }
   },
   "outputs": [],
   "source": [
    "#imports\n",
    "\n",
    "import pytorch_lightning as pl\n",
    "from src import DataModule, Model\n",
    "import torch\n",
    "from pytorch_lightning.metrics.functional.classification import accuracy\n",
    "from tqdm import tqdm\n",
    "import numpy as np"
   ]
  },
  {
   "cell_type": "markdown",
   "metadata": {},
   "source": [
    "# Cargar modelo"
   ]
  },
  {
   "cell_type": "code",
   "execution_count": 2,
   "metadata": {
    "ExecuteTime": {
     "end_time": "2020-12-02T14:01:23.434681Z",
     "start_time": "2020-12-02T14:01:21.815685Z"
    }
   },
   "outputs": [
    {
     "data": {
      "text/plain": [
       "{'lr': 0.0003,\n",
       " 'batch_size': 256,\n",
       " 'precision': 16,\n",
       " 'epochs': 3,\n",
       " 'subset': 0.1,\n",
       " 'size': 256}"
      ]
     },
     "execution_count": 2,
     "metadata": {},
     "output_type": "execute_result"
    }
   ],
   "source": [
    "checkpoint = torch.load('resnet18-val_acc=0.74102.ckpt')\n",
    "checkpoint['hyper_parameters']"
   ]
  },
  {
   "cell_type": "code",
   "execution_count": 3,
   "metadata": {
    "ExecuteTime": {
     "end_time": "2020-12-02T14:01:23.767681Z",
     "start_time": "2020-12-02T14:01:23.435681Z"
    }
   },
   "outputs": [
    {
     "data": {
      "text/plain": [
       "\"batch_size\": 256\n",
       "\"epochs\":     3\n",
       "\"lr\":         0.0003\n",
       "\"precision\":  16\n",
       "\"size\":       256\n",
       "\"subset\":     0.1"
      ]
     },
     "execution_count": 3,
     "metadata": {},
     "output_type": "execute_result"
    }
   ],
   "source": [
    "model = Model.load_from_checkpoint('resnet18-val_acc=0.74102.ckpt')\n",
    "model.hparams"
   ]
  },
  {
   "cell_type": "markdown",
   "metadata": {},
   "source": [
    "# Evaluar modelo"
   ]
  },
  {
   "cell_type": "code",
   "execution_count": 4,
   "metadata": {
    "ExecuteTime": {
     "end_time": "2020-12-02T14:01:36.821671Z",
     "start_time": "2020-12-02T14:01:36.802665Z"
    }
   },
   "outputs": [],
   "source": [
    "def evaluate(model, dl):   \n",
    "    model.eval()\n",
    "    model.cuda()\n",
    "    acc = []\n",
    "    with torch.no_grad():\n",
    "        t = tqdm(dl)\n",
    "        for x, y in t:\n",
    "            x, y = x.cuda(), y.cuda()\n",
    "            y_hat = model(x)\n",
    "            acc.append(accuracy(y_hat, y).item())\n",
    "            t.set_description(f\"acc {np.mean(acc):.5f}\")"
   ]
  },
  {
   "cell_type": "code",
   "execution_count": 5,
   "metadata": {
    "ExecuteTime": {
     "end_time": "2020-12-02T14:02:36.064001Z",
     "start_time": "2020-12-02T14:01:36.929000Z"
    }
   },
   "outputs": [
    {
     "name": "stdout",
     "output_type": "stream",
     "text": [
      "Training samples:  17117\n",
      "Validation samples:  4280\n"
     ]
    },
    {
     "name": "stderr",
     "output_type": "stream",
     "text": [
      "acc 0.72148: 100%|███████████████████████████████████████████████████████████████████████████████████████████████████████████████████████████████████████████████████████████████████████████████████████████████| 67/67 [00:58<00:00,  1.14it/s]\n"
     ]
    }
   ],
   "source": [
    "dm = DataModule()\n",
    "dm.setup()\n",
    "evaluate(model, dm.val_dataloader())"
   ]
  },
  {
   "cell_type": "markdown",
   "metadata": {},
   "source": [
    "# Exportar a *Torchscript*"
   ]
  },
  {
   "cell_type": "code",
   "execution_count": 6,
   "metadata": {
    "ExecuteTime": {
     "end_time": "2020-12-02T14:02:36.078997Z",
     "start_time": "2020-12-02T14:02:36.065999Z"
    }
   },
   "outputs": [],
   "source": [
    "class Preprocess(torch.nn.Module):\n",
    "    def __init__(self):\n",
    "        super().__init__()\n",
    "    def forward(self, x):\n",
    "        x = x.float() / 255.\n",
    "        x = x.permute(0, 3, 1, 2)\n",
    "        return x \n",
    "    \n",
    "class Postprocess(torch.nn.Module):\n",
    "    def __init__(self):\n",
    "        super().__init__()\n",
    "    def forward(self, x):\n",
    "        return torch.argmax(x, dim=1)"
   ]
  },
  {
   "cell_type": "code",
   "execution_count": 7,
   "metadata": {
    "ExecuteTime": {
     "end_time": "2020-12-02T14:02:36.364998Z",
     "start_time": "2020-12-02T14:02:36.080999Z"
    }
   },
   "outputs": [],
   "source": [
    "script = torch.jit.script(torch.nn.Sequential(\n",
    "    Preprocess(),\n",
    "    model.resnet.cpu(),\n",
    "    Postprocess()\n",
    "))\n",
    "torch.jit.save(script, \"model.pt\")"
   ]
  },
  {
   "cell_type": "markdown",
   "metadata": {},
   "source": [
    "# Re-evaluar modelo"
   ]
  },
  {
   "cell_type": "code",
   "execution_count": 8,
   "metadata": {
    "ExecuteTime": {
     "end_time": "2020-12-02T14:02:36.379997Z",
     "start_time": "2020-12-02T14:02:36.365999Z"
    }
   },
   "outputs": [],
   "source": [
    "def evaluate2(model, dl):   \n",
    "    model.eval()\n",
    "    model.cuda()\n",
    "    acc = []\n",
    "    with torch.no_grad():\n",
    "        t = tqdm(dl)\n",
    "        for x, y in t:\n",
    "            x, y = x.cuda(), y.cuda()\n",
    "            # simulate test\n",
    "            x *= 255. \n",
    "            x = x.permute(0, 2, 3, 1).long()\n",
    "            y_hat = model(x)\n",
    "            acc.append(accuracy(y_hat, y).item())\n",
    "            t.set_description(f\"acc {np.mean(acc):.5f}\")"
   ]
  },
  {
   "cell_type": "code",
   "execution_count": 9,
   "metadata": {
    "ExecuteTime": {
     "end_time": "2020-12-02T14:03:28.832811Z",
     "start_time": "2020-12-02T14:02:36.380998Z"
    }
   },
   "outputs": [
    {
     "name": "stderr",
     "output_type": "stream",
     "text": [
      "acc 0.72148: 100%|███████████████████████████████████████████████████████████████████████████████████████████████████████████████████████| 67/67 [00:52<00:00,  1.28it/s]\n"
     ]
    }
   ],
   "source": [
    "loaded = torch.jit.load('model.pt')\n",
    "evaluate2(loaded, dm.val_dataloader())"
   ]
  }
 ],
 "metadata": {
  "kernelspec": {
   "display_name": "Python 3",
   "language": "python",
   "name": "python3"
  },
  "language_info": {
   "codemirror_mode": {
    "name": "ipython",
    "version": 3
   },
   "file_extension": ".py",
   "mimetype": "text/x-python",
   "name": "python",
   "nbconvert_exporter": "python",
   "pygments_lexer": "ipython3",
   "version": "3.7.6"
  },
  "toc": {
   "base_numbering": 1,
   "nav_menu": {},
   "number_sections": true,
   "sideBar": true,
   "skip_h1_title": false,
   "title_cell": "Table of Contents",
   "title_sidebar": "Contents",
   "toc_cell": false,
   "toc_position": {},
   "toc_section_display": true,
   "toc_window_display": true
  }
 },
 "nbformat": 4,
 "nbformat_minor": 4
}
