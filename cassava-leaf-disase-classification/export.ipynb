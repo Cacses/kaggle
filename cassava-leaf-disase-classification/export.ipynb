{
 "cells": [
  {
   "cell_type": "code",
   "execution_count": 1,
   "metadata": {
    "ExecuteTime": {
     "end_time": "2020-11-25T18:26:14.952568Z",
     "start_time": "2020-11-25T18:26:14.942569Z"
    }
   },
   "outputs": [],
   "source": [
    "import pytorch_lightning as pl\n",
    "from src import DataModule, Model\n",
    "import torch\n",
    "from pytorch_lightning.metrics.functional.classification import accuracy\n",
    "from tqdm import tqdm\n",
    "import numpy as np"
   ]
  },
  {
   "cell_type": "code",
   "execution_count": 2,
   "metadata": {
    "ExecuteTime": {
     "end_time": "2020-11-25T18:23:26.136438Z",
     "start_time": "2020-11-25T18:23:24.555921Z"
    }
   },
   "outputs": [
    {
     "data": {
      "text/plain": [
       "{'lr': 0.0003,\n",
       " 'optimizer': 'Adam',\n",
       " 'batch_size': 64,\n",
       " 'max_epochs': 50,\n",
       " 'precision': 16,\n",
       " 'subset': 0,\n",
       " 'test_size': 0.2,\n",
       " 'seed': 42,\n",
       " 'size': 512,\n",
       " 'backbone': 'resnet50'}"
      ]
     },
     "execution_count": 2,
     "metadata": {},
     "output_type": "execute_result"
    }
   ],
   "source": [
    "checkpoint = torch.load('resnet50-val_acc=0.86215.ckpt')\n",
    "checkpoint['hyper_parameters']"
   ]
  },
  {
   "cell_type": "code",
   "execution_count": 3,
   "metadata": {
    "ExecuteTime": {
     "end_time": "2020-11-25T18:24:36.948638Z",
     "start_time": "2020-11-25T18:24:36.636639Z"
    }
   },
   "outputs": [
    {
     "data": {
      "text/plain": [
       "\"backbone\":   resnet50\n",
       "\"batch_size\": 64\n",
       "\"lr\":         0.0003\n",
       "\"max_epochs\": 50\n",
       "\"optimizer\":  Adam\n",
       "\"precision\":  16\n",
       "\"seed\":       42\n",
       "\"size\":       512\n",
       "\"subset\":     0\n",
       "\"test_size\":  0.2"
      ]
     },
     "execution_count": 3,
     "metadata": {},
     "output_type": "execute_result"
    }
   ],
   "source": [
    "model = Model.load_from_checkpoint('resnet50-val_acc=0.86215.ckpt')\n",
    "model.hparams"
   ]
  },
  {
   "cell_type": "code",
   "execution_count": 4,
   "metadata": {
    "ExecuteTime": {
     "end_time": "2020-11-25T18:26:23.753688Z",
     "start_time": "2020-11-25T18:26:23.746688Z"
    }
   },
   "outputs": [],
   "source": [
    "def evaluate(model, dl):   \n",
    "    model.eval()\n",
    "    model.cuda()\n",
    "    acc = []\n",
    "    with torch.no_grad():\n",
    "        t = tqdm(dl)\n",
    "        for x, y in t:\n",
    "            x, y = x.cuda(), y.cuda()\n",
    "            y_hat = model(x)\n",
    "            acc.append(accuracy(y_hat, y).item())\n",
    "            t.set_description(f\"acc {np.mean(acc):.5f}\")"
   ]
  },
  {
   "cell_type": "code",
   "execution_count": 5,
   "metadata": {
    "ExecuteTime": {
     "end_time": "2020-11-25T18:27:49.608657Z",
     "start_time": "2020-11-25T18:26:24.358688Z"
    }
   },
   "outputs": [
    {
     "name": "stderr",
     "output_type": "stream",
     "text": [
      "\r",
      "  0%|          | 0/67 [00:00<?, ?it/s]"
     ]
    },
    {
     "name": "stdout",
     "output_type": "stream",
     "text": [
      "Training samples:  17117\n",
      "Validation samples:  4280\n"
     ]
    },
    {
     "name": "stderr",
     "output_type": "stream",
     "text": [
      "acc 0.86211: 100%|██████████| 67/67 [00:47<00:00,  1.40it/s]\n"
     ]
    }
   ],
   "source": [
    "dm = DataModule()\n",
    "dm.setup()\n",
    "evaluate(model, dm.val_dataloader())"
   ]
  },
  {
   "cell_type": "code",
   "execution_count": 6,
   "metadata": {
    "ExecuteTime": {
     "end_time": "2020-11-25T18:29:12.471549Z",
     "start_time": "2020-11-25T18:29:12.461556Z"
    }
   },
   "outputs": [],
   "source": [
    "class Preprocess(torch.nn.Module):\n",
    "    def __init__(self):\n",
    "        super().__init__()\n",
    "    def forward(self, x):\n",
    "        x = x.float() / 255.\n",
    "        x = x.permute(0, 3, 1, 2)\n",
    "        return x \n",
    "    \n",
    "class Postprocess(torch.nn.Module):\n",
    "    def __init__(self):\n",
    "        super().__init__()\n",
    "    def forward(self, x):\n",
    "        return torch.argmax(x, dim=1)"
   ]
  },
  {
   "cell_type": "code",
   "execution_count": 10,
   "metadata": {
    "ExecuteTime": {
     "end_time": "2020-11-25T18:29:13.198552Z",
     "start_time": "2020-11-25T18:29:12.883549Z"
    }
   },
   "outputs": [],
   "source": [
    "script = torch.jit.script(torch.nn.Sequential(\n",
    "    Preprocess(),\n",
    "    model.resnet.cpu(),\n",
    "    Postprocess()\n",
    "))\n",
    "torch.jit.save(script, \"resnet50.pt\")"
   ]
  },
  {
   "cell_type": "code",
   "execution_count": 11,
   "metadata": {
    "ExecuteTime": {
     "end_time": "2020-11-25T18:29:47.847920Z",
     "start_time": "2020-11-25T18:29:47.832923Z"
    }
   },
   "outputs": [],
   "source": [
    "def evaluate2(model, dl):   \n",
    "    model.eval()\n",
    "    model.cuda()\n",
    "    acc = []\n",
    "    with torch.no_grad():\n",
    "        t = tqdm(dl)\n",
    "        for x, y in t:\n",
    "            x, y = x.cuda(), y.cuda()\n",
    "            # simulate test\n",
    "            x *= 255. \n",
    "            x = x.permute(0, 2, 3, 1).long()\n",
    "            y_hat = model(x)\n",
    "            acc.append(accuracy(y_hat, y).item())\n",
    "            t.set_description(f\"acc {np.mean(acc):.5f}\")"
   ]
  },
  {
   "cell_type": "code",
   "execution_count": 12,
   "metadata": {
    "ExecuteTime": {
     "end_time": "2020-11-25T18:31:17.481728Z",
     "start_time": "2020-11-25T18:30:00.251106Z"
    }
   },
   "outputs": [
    {
     "name": "stderr",
     "output_type": "stream",
     "text": [
      "acc 0.86211: 100%|██████████| 67/67 [00:43<00:00,  1.52it/s]\n"
     ]
    }
   ],
   "source": [
    "loaded = torch.jit.load('resnet50.pt')\n",
    "evaluate2(loaded, dm.val_dataloader())"
   ]
  },
  {
   "cell_type": "code",
   "execution_count": null,
   "metadata": {},
   "outputs": [],
   "source": []
  }
 ],
 "metadata": {
  "kernelspec": {
   "display_name": "Python 3",
   "language": "python",
   "name": "python3"
  },
  "language_info": {
   "codemirror_mode": {
    "name": "ipython",
    "version": 3
   },
   "file_extension": ".py",
   "mimetype": "text/x-python",
   "name": "python",
   "nbconvert_exporter": "python",
   "pygments_lexer": "ipython3",
   "version": "3.8.3"
  },
  "toc": {
   "base_numbering": 1,
   "nav_menu": {},
   "number_sections": true,
   "sideBar": true,
   "skip_h1_title": false,
   "title_cell": "Table of Contents",
   "title_sidebar": "Contents",
   "toc_cell": false,
   "toc_position": {},
   "toc_section_display": true,
   "toc_window_display": false
  }
 },
 "nbformat": 4,
 "nbformat_minor": 4
}
